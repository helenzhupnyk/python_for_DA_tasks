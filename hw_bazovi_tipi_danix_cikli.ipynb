{
 "cells": [
  {
   "cell_type": "markdown",
   "id": "5b1cae7d",
   "metadata": {},
   "source": [
    "1.Задане значення у змінній var. Перетворіть значення в змінній var на цілочисельне, запишіть в нову змінну `var_int` та виведіть тип нової змінної `var_int`."
   ]
  },
  {
   "cell_type": "code",
   "execution_count": 9,
   "id": "d93f77ed",
   "metadata": {
    "ExecuteTime": {
     "end_time": "2023-06-13T11:52:35.489925Z",
     "start_time": "2023-06-13T11:52:35.487238Z"
    },
    "tags": []
   },
   "outputs": [],
   "source": [
    "var = '1224'"
   ]
  },
  {
   "cell_type": "code",
   "execution_count": 11,
   "id": "5a4afe8f",
   "metadata": {
    "tags": []
   },
   "outputs": [
    {
     "data": {
      "text/plain": [
       "int"
      ]
     },
     "execution_count": 11,
     "metadata": {},
     "output_type": "execute_result"
    }
   ],
   "source": [
    "var_int = int(var)\n",
    "type(var_int)"
   ]
  },
  {
   "cell_type": "markdown",
   "id": "eb3d19d8",
   "metadata": {
    "ExecuteTime": {
     "end_time": "2023-06-13T13:00:19.611699Z",
     "start_time": "2023-06-13T13:00:19.607737Z"
    }
   },
   "source": [
    "2.У Вас є список слів. Виведіть кожне третє слово в списку."
   ]
  },
  {
   "cell_type": "code",
   "execution_count": 17,
   "id": "477f4ced",
   "metadata": {
    "ExecuteTime": {
     "end_time": "2023-06-13T13:00:02.052801Z",
     "start_time": "2023-06-13T13:00:02.048798Z"
    },
    "tags": []
   },
   "outputs": [],
   "source": [
    "words = [\"apple\", \"banana\", \"cherry\", \"date\", \"elderberry\", \"fig\", \"grape\", \"honeydew\", \"ice cream\", \"jackfruit\", \"kiwi\", \"lemon\", \"mango\", \"nectarine\", \"orange\", \"pineapple\", \"quince\", \"raspberry\", \"strawberry\", \"tangerine\", \"ugli fruit\", \"vanilla\", \"watermelon\", \"xigua\", \"yam\", \"zucchini\"]"
   ]
  },
  {
   "cell_type": "code",
   "execution_count": 20,
   "id": "1b73ca2f",
   "metadata": {
    "tags": []
   },
   "outputs": [
    {
     "data": {
      "text/plain": [
       "['cherry',\n",
       " 'fig',\n",
       " 'ice cream',\n",
       " 'lemon',\n",
       " 'orange',\n",
       " 'raspberry',\n",
       " 'ugli fruit',\n",
       " 'xigua']"
      ]
     },
     "execution_count": 20,
     "metadata": {},
     "output_type": "execute_result"
    }
   ],
   "source": [
    "words[2:-1:3]"
   ]
  },
  {
   "cell_type": "markdown",
   "id": "394d1dea",
   "metadata": {},
   "source": [
    "3.Скільки всього СЛІВ у списку `words`?"
   ]
  },
  {
   "cell_type": "code",
   "execution_count": 24,
   "id": "83c88182",
   "metadata": {
    "tags": []
   },
   "outputs": [
    {
     "data": {
      "text/plain": [
       "26"
      ]
     },
     "execution_count": 24,
     "metadata": {},
     "output_type": "execute_result"
    }
   ],
   "source": [
    "len(words)"
   ]
  },
  {
   "cell_type": "markdown",
   "id": "703d1620",
   "metadata": {
    "ExecuteTime": {
     "end_time": "2023-06-13T13:03:17.414285Z",
     "start_time": "2023-06-13T13:03:17.409285Z"
    }
   },
   "source": [
    "4.Скільки всього ЛІТЕР в усіх словах у списку words?"
   ]
  },
  {
   "cell_type": "code",
   "execution_count": 30,
   "id": "c44d04d9",
   "metadata": {
    "tags": []
   },
   "outputs": [
    {
     "name": "stdout",
     "output_type": "stream",
     "text": [
      "Total count of letter is equal:180\n"
     ]
    }
   ],
   "source": [
    "total_letter = 0\n",
    "for word in words:\n",
    "    total_letter += len(word)\n",
    "print(f\"Total count of letter is equal:{total_letter}\") "
   ]
  },
  {
   "cell_type": "markdown",
   "id": "4c95f6a3",
   "metadata": {},
   "source": [
    "5.Скільки разів зустрічається кожна літера в усіх словах списку `words`? Відсортуйте літери в результуючому словнику за алфавітним порядком."
   ]
  },
  {
   "cell_type": "code",
   "execution_count": 54,
   "id": "f6cff6cb",
   "metadata": {
    "tags": []
   },
   "outputs": [
    {
     "name": "stdout",
     "output_type": "stream",
     "text": [
      "{'a': 20, 'b': 4, 'c': 8, 'd': 3, 'e': 24, 'f': 3, 'g': 7, 'h': 3, 'i': 15, 'j': 1, 'k': 2, 'l': 8, 'm': 5, 'n': 15, 'o': 5, 'p': 7, 'q': 1, 'r': 19, 's': 2, 't': 7, 'u': 6, 'v': 1, 'w': 4, 'x': 1, 'y': 6, 'z': 1}\n"
     ]
    }
   ],
   "source": [
    "words = [\"apple\", \"banana\", \"cherry\", \"date\", \"elderberry\", \"fig\", \"grape\", \"honeydew\", \"ice cream\", \"jackfruit\", \"kiwi\", \"lemon\", \"mango\", \"nectarine\", \"orange\", \"pineapple\", \"quince\", \"raspberry\", \"strawberry\", \"tangerine\", \"ugli fruit\", \"vanilla\", \"watermelon\", \"xigua\", \"yam\", \"zucchini\"]\n",
    "alphabet = ['a', 'b', 'c', 'd', 'e', 'f', 'g', 'h', 'i', 'j', 'k', 'l', 'm', 'n', 'o', 'p', 'q', 'r', 's', 't', 'u', 'v', 'w', 'x', 'y', 'z']\n",
    "\n",
    "all_words = ''.join(words)\n",
    "\n",
    "result = {}\n",
    "\n",
    "for i in alphabet:\n",
    "    if i in all_words:\n",
    "        count = all_words.count(i)\n",
    "        result[i] = count\n",
    "print(result)\n"
   ]
  },
  {
   "cell_type": "markdown",
   "id": "94d9f1cc",
   "metadata": {},
   "source": [
    "Очікуваний результат: \n",
    "```\n",
    "{' ': 2,\n",
    " 'a': 20,\n",
    " 'b': 4,\n",
    " 'c': 8,\n",
    " 'd': 3,\n",
    " 'e': 24,\n",
    " 'f': 3,\n",
    " 'g': 7,\n",
    " 'h': 3,\n",
    " 'i': 15,\n",
    " 'j': 1,\n",
    " 'k': 2,\n",
    " 'l': 8,\n",
    " 'm': 5,\n",
    " 'n': 15,\n",
    " 'o': 5,\n",
    " 'p': 7,\n",
    " 'q': 1,\n",
    " 'r': 19,\n",
    " 's': 2,\n",
    " 't': 7,\n",
    " 'u': 6,\n",
    " 'v': 1,\n",
    " 'w': 4,\n",
    " 'x': 1,\n",
    " 'y': 6,\n",
    " 'z': 1}\n",
    " ```"
   ]
  },
  {
   "cell_type": "markdown",
   "id": "c93ac384",
   "metadata": {},
   "source": [
    "6.Використовуючи результат виконання попереднього завдання, виведіть на екран ту літеру, яка зустрічається найчастіше і скільки разів вона зустрічається. Це треба зробити програмно, а не просто подививщись на дані :) "
   ]
  },
  {
   "cell_type": "code",
   "execution_count": 59,
   "id": "9ddfb851",
   "metadata": {
    "tags": []
   },
   "outputs": [
    {
     "name": "stdout",
     "output_type": "stream",
     "text": [
      "Літера, яка зустрічається найчастіше: e\n",
      "Кількість разів, яку вона зустрічається: 24\n"
     ]
    }
   ],
   "source": [
    "most_common_letter = max(result, key=result.get)\n",
    "\n",
    "count_of_most_common_letter = result[most_common_letter]\n",
    "print(f\"Літера, яка зустрічається найчастіше: {most_common_letter}\")\n",
    "print(f\"Кількість разів, яку вона зустрічається: {count_of_most_common_letter}\")\n",
    "#max(stats, key=stats.get) знайшла такий код в стаковерфлов, але я не зовсім розумію ось цей метод get - можна пояснення?"
   ]
  },
  {
   "cell_type": "markdown",
   "id": "f40adbed",
   "metadata": {},
   "source": [
    "7.Для кожного елементу списку виведіть тип елемену. Якщо тип обʼєкту - int (тільки цей тип безпосередньо!), виведіть результат піднесення цього числа до степеню 5."
   ]
  },
  {
   "cell_type": "code",
   "execution_count": 61,
   "id": "f92249ac",
   "metadata": {
    "ExecuteTime": {
     "end_time": "2023-06-13T12:53:04.365735Z",
     "start_time": "2023-06-13T12:53:04.362441Z"
    },
    "tags": []
   },
   "outputs": [],
   "source": [
    "elements = [12, 'type', 'Bob', True, 'False', 1.414, 1444.333, 123/33, 5]"
   ]
  },
  {
   "cell_type": "code",
   "execution_count": 71,
   "id": "96b72186",
   "metadata": {
    "tags": []
   },
   "outputs": [
    {
     "name": "stdout",
     "output_type": "stream",
     "text": [
      "This is a number! Let't take it to power 5! The result is: 248832\n",
      "The type of element 12 is <class 'int'>\n",
      "The type of element type is <class 'str'>\n",
      "The type of element Bob is <class 'str'>\n",
      "The type of element True is <class 'bool'>\n",
      "The type of element False is <class 'str'>\n",
      "The type of element 1.414 is <class 'float'>\n",
      "The type of element 1444.333 is <class 'float'>\n",
      "The type of element 3.727272727272727 is <class 'float'>\n",
      "This is a number! Let't take it to power 5! The result is: 3125\n",
      "The type of element 5 is <class 'int'>\n"
     ]
    }
   ],
   "source": [
    "type_elem = []\n",
    "for i in elements:\n",
    "    type_elem = type(i)\n",
    "    if type_elem == int:\n",
    "        print(f\"This is a number! Let't take it to power 5! The result is: {i**5}\")\n",
    "    print(f\"The type of element {i} is {type_elem}\")"
   ]
  },
  {
   "cell_type": "markdown",
   "id": "cf2247c7",
   "metadata": {
    "ExecuteTime": {
     "end_time": "2023-06-13T12:55:17.795510Z",
     "start_time": "2023-06-13T12:55:17.787158Z"
    }
   },
   "source": [
    "Приклад очікуваного результату (текстові коментарі і форматування можуть бути іншими):\n",
    "```\n",
    "    The type of element 12 is <class 'int'>\n",
    "    This is a number! Let't take it to power 5! The result is: 248832\n",
    "    The type of element type is <class 'str'>\n",
    "    The type of element Bob is <class 'str'>\n",
    "    The type of element True is <class 'bool'>\n",
    "    The type of element False is <class 'str'>\n",
    "    The type of element 1.414 is <class 'float'>\n",
    "    The type of element 1444.333 is <class 'float'>\n",
    "    The type of element 3.727272727272727 is <class 'float'>\n",
    "    The type of element 5 is <class 'int'>\n",
    "    This is a number! Let't take it to power 5! The result is: 3125\n",
    "```"
   ]
  },
  {
   "cell_type": "markdown",
   "id": "76a0bef2",
   "metadata": {},
   "source": [
    "8.Створіть програму, яка:\n",
    "\n",
    "- Для визначених значень `name` та `age` друкує повідомлення \"Привіт, [Ім’я] ! Вам [Вік] років.\".\n",
    "- Обчислює, скільки років залишилося користувачеві до 100 років, і друкує повідомлення з цією інформацією: \"До 100 років Вам лишилось [Число] років.\"  \n",
    "\n",
    "Запустіть програму для набору користувачів нижче."
   ]
  },
  {
   "cell_type": "code",
   "execution_count": 72,
   "id": "0092963a",
   "metadata": {
    "ExecuteTime": {
     "end_time": "2023-06-13T12:30:11.462941Z",
     "start_time": "2023-06-13T12:30:11.459673Z"
    },
    "tags": []
   },
   "outputs": [],
   "source": [
    "users = [\n",
    "    ['Karl', 30],\n",
    "    ['Klara', 15],\n",
    "    ['Alexis', 56],\n",
    "    ['Charles', 99]\n",
    "]"
   ]
  },
  {
   "cell_type": "code",
   "execution_count": 74,
   "id": "8d6d820e",
   "metadata": {
    "tags": []
   },
   "outputs": [
    {
     "name": "stdout",
     "output_type": "stream",
     "text": [
      "Hello, Karl ! You are 30 years old\n",
      "You have 70 of years left before you turn 100.\n",
      "Hello, Klara ! You are 15 years old\n",
      "You have 85 of years left before you turn 100.\n",
      "Hello, Alexis ! You are 56 years old\n",
      "You have 44 of years left before you turn 100.\n",
      "Hello, Charles ! You are 99 years old\n",
      "You have 1 of years left before you turn 100.\n"
     ]
    }
   ],
   "source": [
    "years_left = 0\n",
    "for key,value in users:\n",
    "    print(f\"Hello, {key} ! You are {value} years old\")\n",
    "    years_left = 100-value\n",
    "    print(f\"You have {years_left} of years left before you turn 100.\")\n",
    "    \n",
    "    "
   ]
  },
  {
   "cell_type": "markdown",
   "id": "45fedbc4",
   "metadata": {},
   "source": [
    "9.Напишть фрагмент коду, який перевіряє, чи слово є паліндромом. Слово (або фраза) є паліндромом, якщо при читанні його зворотньому напрямі буде таке саме слово.\n",
    "Наприклад, слово \"radar\" є паліндромом, але \"radix\" не є паліндромом. Код в кінці має видавати результат True або False.  \n",
    "Код має звертати увагу лише на символи-літери. Регістр літер не має значення, а знаки пунктуації (кома, крапка) та `-+=/\\`` мають бути вилучені з рядка перед перевіркою. Так само, пробіли не впливають на визначення,чи слово є палендромом. Мають значення лише літери.\n",
    "Тобто рядки \"A mam, a\" та \"A mamA\" є паліндромами, а \"AmamU\" - ні.\n",
    "\n",
    "Опціонально ви можете розмістити код на перевірку чи є слово паліндромом у фукнцію.\n",
    "Запустіть свій код для рядків з набору нижче і виведіть результат перевірки на екран для кожного рядка."
   ]
  },
  {
   "cell_type": "code",
   "execution_count": 75,
   "id": "4cca3eed",
   "metadata": {
    "ExecuteTime": {
     "end_time": "2023-06-13T12:24:02.288183Z",
     "start_time": "2023-06-13T12:24:02.285245Z"
    },
    "tags": []
   },
   "outputs": [],
   "source": [
    "phrases_to_check = [\n",
    "    'radar',\n",
    "    'radix',\n",
    "    'A mam, a',\n",
    "    'A mamA',\n",
    "    'Sit on a potato pan Otis',\n",
    "    'Taco cat.',\n",
    "    'Taco cat',\n",
    "    'Tornado',\n",
    "    \"Go hang a salami, I'm a lasagna hog.\"\n",
    "]"
   ]
  },
  {
   "cell_type": "code",
   "execution_count": 88,
   "id": "becbec3c",
   "metadata": {
    "tags": []
   },
   "outputs": [
    {
     "name": "stdout",
     "output_type": "stream",
     "text": [
      "\"radar\" є паліндромом: True\n",
      "\"radix\" є паліндромом: False\n",
      "\"A mam, a\" є паліндромом: True\n",
      "\"A mamA\" є паліндромом: True\n",
      "\"Sit on a potato pan Otis\" є паліндромом: True\n",
      "\"Taco cat.\" є паліндромом: True\n",
      "\"Taco cat\" є паліндромом: True\n",
      "\"Tornado\" є паліндромом: False\n",
      "\"Go hang a salami, I'm a lasagna hog.\" є паліндромом: True\n"
     ]
    }
   ],
   "source": [
    "for phrase in phrases_to_check:\n",
    "    cleaned_phrase = ''.join(char for char in phrase if char.isalpha()).lower() \n",
    "#     ця конструкція прям складна для мене, вдалося зробити робочий код завдяки відео зідзвонів\n",
    "    \n",
    "    is_palindrome = cleaned_phrase == cleaned_phrase[::-1]\n",
    "#     і ось це не розумію [::-1] чому саме так? це так ми розвертаємо фразу?\n",
    "    \n",
    "    print(f'\"{phrase}\" є паліндромом: {is_palindrome}')"
   ]
  },
  {
   "cell_type": "markdown",
   "id": "e51c421d",
   "metadata": {},
   "source": [
    "Очкувані результати обчислень:\n",
    "```\n",
    "    radar - True\n",
    "    radix - False\n",
    "    A mam, a - True\n",
    "    A mamA - True\n",
    "    Sit on a potato pan Otis - True\n",
    "    Taco cat. - True\n",
    "    Taco cat - True\n",
    "    Tornado - False\n",
    "    Go hang a salami, I'm a lasagna hog. - True\n",
    "```"
   ]
  }
 ],
 "metadata": {
  "kernelspec": {
   "display_name": "Python 3 (ipykernel)",
   "language": "python",
   "name": "python3"
  },
  "language_info": {
   "codemirror_mode": {
    "name": "ipython",
    "version": 3
   },
   "file_extension": ".py",
   "mimetype": "text/x-python",
   "name": "python",
   "nbconvert_exporter": "python",
   "pygments_lexer": "ipython3",
   "version": "3.11.5"
  },
  "toc": {
   "base_numbering": 1,
   "nav_menu": {},
   "number_sections": true,
   "sideBar": true,
   "skip_h1_title": false,
   "title_cell": "Table of Contents",
   "title_sidebar": "Contents",
   "toc_cell": false,
   "toc_position": {},
   "toc_section_display": true,
   "toc_window_display": false
  }
 },
 "nbformat": 4,
 "nbformat_minor": 5
}
